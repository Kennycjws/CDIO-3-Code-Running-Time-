{
 "cells": [
  {
   "cell_type": "markdown",
   "id": "af1341a6",
   "metadata": {},
   "source": [
    "# Method 1: Multi-Threading\n",
    "\n",
    "### Consists of:\n",
    "- Template\n",
    "- Example 1 (Single Threading)\n",
    "- Example 2 (Multi Threading)\n"
   ]
  },
  {
   "cell_type": "markdown",
   "id": "48a4eb6e",
   "metadata": {},
   "source": [
    "### Template"
   ]
  },
  {
   "cell_type": "code",
   "execution_count": null,
   "id": "93bdcbdc",
   "metadata": {},
   "outputs": [],
   "source": [
    "import threading\n",
    "\n",
    "def function1():\n",
    "    \n",
    "    # Insert function\n",
    "\n",
    "def function2():\n",
    "    \n",
    "    # Insert function\n",
    " \n",
    "if __name__ ==\"__main__\":\n",
    "    \n",
    "    # creating threads for each of the functions\n",
    "    t1 = threading.Thread(target=function1)\n",
    "    t2 = threading.Thread(target=function2)\n",
    " \n",
    "    # starting thread 1\n",
    "    t1.start()\n",
    "    \n",
    "    # starting thread 2\n",
    "    t2.start()\n",
    " \n",
    "    # wait until thread 1 is completely executed\n",
    "    t1.join()\n",
    "    \n",
    "    # wait until thread 2 is completely executed\n",
    "    t2.join()\n",
    " \n",
    "    # both threads completely executed"
   ]
  },
  {
   "cell_type": "markdown",
   "id": "12cc72b9",
   "metadata": {},
   "source": [
    "### Example 1 (Single Threading)"
   ]
  },
  {
   "cell_type": "code",
   "execution_count": 2,
   "id": "b886f7f4",
   "metadata": {},
   "outputs": [
    {
     "name": "stdout",
     "output_type": "stream",
     "text": [
      "Function 1 Done\n",
      "Function 2 Done\n",
      "time taken =  6.022941827774048\n"
     ]
    }
   ],
   "source": [
    "import  time\n",
    " \n",
    "def function1():\n",
    "    \n",
    "    time.sleep(3)\n",
    "    print(\"Function 1 Done\")\n",
    "\n",
    "def function2():\n",
    "    \n",
    "    time.sleep(3)\n",
    "    print(\"Function 2 Done\")\n",
    " \n",
    "if __name__ ==\"__main__\":\n",
    "    \n",
    "    # singlethreading\n",
    "    starttime = time.time()\n",
    "    function1()\n",
    "    function2()\n",
    "    endtime = time.time()\n",
    "    print(\"time taken = \", endtime-starttime)"
   ]
  },
  {
   "cell_type": "markdown",
   "id": "c4dee8c0",
   "metadata": {},
   "source": [
    "### Example 2 (Multi Threading)"
   ]
  },
  {
   "cell_type": "code",
   "execution_count": 3,
   "id": "29040f30",
   "metadata": {},
   "outputs": [
    {
     "name": "stdout",
     "output_type": "stream",
     "text": [
      "Function 1 Done\n",
      "Function 2 Done\n",
      "time taken =  3.0098953247070312\n"
     ]
    }
   ],
   "source": [
    "import threading\n",
    "import  time\n",
    " \n",
    "def function1():\n",
    "    \n",
    "    time.sleep(3)\n",
    "    print(\"Function 1 Done\")\n",
    "\n",
    "def function2():\n",
    "    \n",
    "    time.sleep(3)\n",
    "    print(\"Function 2 Done\")\n",
    " \n",
    "if __name__ ==\"__main__\":\n",
    "    \n",
    "    #multithreading\n",
    "    starttime = time.time()\n",
    "    # creating thread\n",
    "    t1 = threading.Thread(target=function1)\n",
    "    t2 = threading.Thread(target=function2)\n",
    " \n",
    "    # starting thread 1\n",
    "    t1.start()\n",
    "    # starting thread 2\n",
    "    t2.start()\n",
    " \n",
    "    # wait until thread 1 is completely executed\n",
    "    t1.join()\n",
    "    # wait until thread 2 is completely executed\n",
    "    t2.join()\n",
    " \n",
    "    # both threads completely executed\n",
    "    endtime = time.time()\n",
    "    print(\"time taken = \", endtime-starttime)"
   ]
  }
 ],
 "metadata": {
  "kernelspec": {
   "display_name": "Python 3 (ipykernel)",
   "language": "python",
   "name": "python3"
  },
  "language_info": {
   "codemirror_mode": {
    "name": "ipython",
    "version": 3
   },
   "file_extension": ".py",
   "mimetype": "text/x-python",
   "name": "python",
   "nbconvert_exporter": "python",
   "pygments_lexer": "ipython3",
   "version": "3.9.12"
  }
 },
 "nbformat": 4,
 "nbformat_minor": 5
}
