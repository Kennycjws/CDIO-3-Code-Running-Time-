{
 "cells": [
  {
   "cell_type": "markdown",
   "id": "05926b06",
   "metadata": {},
   "source": [
    "# Method 2: Multi-Processing\n",
    "\n",
    "### Consists of:\n",
    "- Template\n",
    "- Example 1 (Single Processing)\n",
    "- Example 2 (Multi Processing)"
   ]
  },
  {
   "cell_type": "markdown",
   "id": "bf017a0b",
   "metadata": {},
   "source": [
    "### Template"
   ]
  },
  {
   "cell_type": "code",
   "execution_count": null,
   "id": "042174f7",
   "metadata": {},
   "outputs": [],
   "source": [
    "import multiprocessing\n",
    "\n",
    "def function1():\n",
    "\n",
    "    # Insert function\n",
    "    \n",
    "def function2():\n",
    "\n",
    "    # Insert function\n",
    "\n",
    "if __name__ == \"__main__\":\n",
    "\n",
    "    # creating processes for each of the functions\n",
    "    p1 = multiprocessing.Process(target=function1)\n",
    "    p2 = multiprocessing.Process(target=function2)\n",
    "\n",
    "    # starting process 1\n",
    "    p1.start()\n",
    "    \n",
    "    # starting process 2\n",
    "    p2.start()\n",
    "\n",
    "    # wait until process 1 is completely executed\n",
    "    p1.join()\n",
    "    \n",
    "    # wait until process 2 is completely executed\n",
    "    p2.join()\n",
    "\n",
    "    # both processes completely executed"
   ]
  },
  {
   "cell_type": "markdown",
   "id": "d17f2fb3",
   "metadata": {},
   "source": [
    "### Example 1 (Single Processing)"
   ]
  },
  {
   "cell_type": "code",
   "execution_count": 2,
   "id": "46b62474",
   "metadata": {},
   "outputs": [
    {
     "name": "stdout",
     "output_type": "stream",
     "text": [
      "function 1 done!\n",
      "function 2 done!\n",
      "time taken =  23.828627109527588\n"
     ]
    }
   ],
   "source": [
    "import  time\n",
    "\n",
    "def function1(num):\n",
    "    \n",
    "    cnt = 0\n",
    "    for _ in range(num):\n",
    "        cnt += 1\n",
    "    print(\"function 1 done!\")\n",
    "\n",
    "def function2(num):\n",
    "    \n",
    "    cnt = 0\n",
    "    for _ in range(num):\n",
    "        cnt += 1\n",
    "    print(\"function 2 done!\")\n",
    "\n",
    "if __name__ == \"__main__\":\n",
    "    N = 2 * 10**8\n",
    "\n",
    "    # singleprocessing\n",
    "    starttime = time.time()\n",
    "    function1(N)\n",
    "    function2(N)\n",
    "    endtime = time.time()\n",
    "    print(\"time taken = \", endtime-starttime)"
   ]
  },
  {
   "cell_type": "markdown",
   "id": "c9862d3f",
   "metadata": {},
   "source": [
    "### Example 2 (Multi Processing)"
   ]
  },
  {
   "cell_type": "code",
   "execution_count": 5,
   "id": "42704269",
   "metadata": {},
   "outputs": [
    {
     "name": "stdout",
     "output_type": "stream",
     "text": [
      "function 1 done!\n",
      "function 2 done!\n",
      "time taken =  12.000855331243671\n"
     ]
    }
   ],
   "source": [
    "import multiprocessing\n",
    "import  time\n",
    "\n",
    "def function1(num):\n",
    "    \n",
    "    cnt = 0\n",
    "    for _ in range(num):\n",
    "        cnt += 1\n",
    "    print(\"function 1 done!\")\n",
    "\n",
    "def function2(num):\n",
    "    \n",
    "    cnt = 0\n",
    "    for _ in range(num):\n",
    "        cnt += 1\n",
    "    print(\"function 2 done!\")\n",
    "\n",
    "if __name__ == \"__main__\":\n",
    "    N = 2 * 10**8\n",
    "\n",
    "    # multiprocessing\n",
    "    starttime = time.time()\n",
    "    # creating process\n",
    "    p1 = multiprocessing.Process(target=function1, args=(N, ))\n",
    "    p2 = multiprocessing.Process(target=function2, args=(N, ))\n",
    "\n",
    "    # starting process 1\n",
    "    p1.start()\n",
    "    # starting process 2\n",
    "    p2.start()\n",
    "\n",
    "    # wait until process 1 is completely executed\n",
    "    p1.join()\n",
    "    # wait until process 2 is completely executed\n",
    "    p2.join()\n",
    "    \n",
    "    # both processes completely executed\n",
    "    endtime = time.time()\n",
    "    print(\"time taken = \", endtime-starttime)"
   ]
  }
 ],
 "metadata": {
  "kernelspec": {
   "display_name": "Python 3 (ipykernel)",
   "language": "python",
   "name": "python3"
  },
  "language_info": {
   "codemirror_mode": {
    "name": "ipython",
    "version": 3
   },
   "file_extension": ".py",
   "mimetype": "text/x-python",
   "name": "python",
   "nbconvert_exporter": "python",
   "pygments_lexer": "ipython3",
   "version": "3.9.12"
  }
 },
 "nbformat": 4,
 "nbformat_minor": 5
}
